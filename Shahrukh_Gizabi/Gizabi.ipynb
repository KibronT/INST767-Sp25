{
 "cells": [
  {
   "cell_type": "markdown",
   "id": "b2027a74-74e5-484d-931a-d67c1525c3fb",
   "metadata": {},
   "source": [
    "## Issue 1\n",
    "\n",
    "API 1: https://thecatapi.com\n",
    "\n",
    "Input to API: Cat breed.\n",
    "\n",
    "\n",
    "Expected data: Images from that breed.\n",
    "\n",
    "\n",
    "API 2:  https://dog.ceo/dog-api/\n",
    "\n",
    "\n",
    "Input to API: Dog breed.\n",
    "\n",
    "\n",
    "Expected data: Images from that breed.\n",
    "\n",
    "\n",
    "\n",
    "API 3: https://www.coingecko.com/en/api\n",
    "\n",
    "\n",
    "\n",
    "Input to API: Coin ID\n",
    "\n",
    "\n",
    "Expected data: Name, Price, Market, Etc. (Data about the coin) "
   ]
  },
  {
   "cell_type": "code",
   "execution_count": 11,
   "id": "db226a4a-04d5-445c-a073-fd7774bad578",
   "metadata": {},
   "outputs": [
    {
     "name": "stdout",
     "output_type": "stream",
     "text": [
      "Requirement already satisfied: IPython in c:\\users\\shahrukh\\anaconda3\\lib\\site-packages (8.27.0)\n",
      "Requirement already satisfied: decorator in c:\\users\\shahrukh\\anaconda3\\lib\\site-packages (from IPython) (5.1.1)\n",
      "Requirement already satisfied: jedi>=0.16 in c:\\users\\shahrukh\\anaconda3\\lib\\site-packages (from IPython) (0.19.1)\n",
      "Requirement already satisfied: matplotlib-inline in c:\\users\\shahrukh\\anaconda3\\lib\\site-packages (from IPython) (0.1.6)\n",
      "Requirement already satisfied: prompt-toolkit<3.1.0,>=3.0.41 in c:\\users\\shahrukh\\anaconda3\\lib\\site-packages (from IPython) (3.0.43)\n",
      "Requirement already satisfied: pygments>=2.4.0 in c:\\users\\shahrukh\\anaconda3\\lib\\site-packages (from IPython) (2.15.1)\n",
      "Requirement already satisfied: stack-data in c:\\users\\shahrukh\\anaconda3\\lib\\site-packages (from IPython) (0.2.0)\n",
      "Requirement already satisfied: traitlets>=5.13.0 in c:\\users\\shahrukh\\anaconda3\\lib\\site-packages (from IPython) (5.14.3)\n",
      "Requirement already satisfied: colorama in c:\\users\\shahrukh\\anaconda3\\lib\\site-packages (from IPython) (0.4.6)\n",
      "Requirement already satisfied: parso<0.9.0,>=0.8.3 in c:\\users\\shahrukh\\anaconda3\\lib\\site-packages (from jedi>=0.16->IPython) (0.8.3)\n",
      "Requirement already satisfied: wcwidth in c:\\users\\shahrukh\\anaconda3\\lib\\site-packages (from prompt-toolkit<3.1.0,>=3.0.41->IPython) (0.2.5)\n",
      "Requirement already satisfied: executing in c:\\users\\shahrukh\\anaconda3\\lib\\site-packages (from stack-data->IPython) (0.8.3)\n",
      "Requirement already satisfied: asttokens in c:\\users\\shahrukh\\anaconda3\\lib\\site-packages (from stack-data->IPython) (2.0.5)\n",
      "Requirement already satisfied: pure-eval in c:\\users\\shahrukh\\anaconda3\\lib\\site-packages (from stack-data->IPython) (0.2.2)\n",
      "Requirement already satisfied: six in c:\\users\\shahrukh\\anaconda3\\lib\\site-packages (from asttokens->stack-data->IPython) (1.16.0)\n",
      "Note: you may need to restart the kernel to use updated packages.\n"
     ]
    }
   ],
   "source": [
    "pip install IPython"
   ]
  },
  {
   "cell_type": "code",
   "execution_count": 25,
   "id": "a9465415-23c9-42e2-9bf7-14aca43ab099",
   "metadata": {},
   "outputs": [
    {
     "name": "stdout",
     "output_type": "stream",
     "text": [
      "https://cdn2.thecatapi.com/images/8pCFG7gCV.jpg\n"
     ]
    }
   ],
   "source": [
    "from PIL import Image\n",
    "import requests\n",
    "import IPython.display as display\n",
    "\n",
    "def CatAPIcall(breedID):\n",
    "    url = f\"https://api.thecatapi.com/v1/images/search?limit=10&breed_ids={breedID}&api_key=live_rMeAOPXUTKW39bCs5HhYJ4CZZ6CefLAiofUZPo1vxHfGOINdjOLYlTdxpd5HgQ6Y\"\n",
    "    try:\n",
    "        response = requests.get(url)\n",
    "        response.raise_for_status()\n",
    "        data = response.json()\n",
    "        cat_url = response.json()[0]['url']\n",
    "        print(cat_url)\n",
    "        display.Image(requests.get(cat_url).content)\n",
    "        im = Image.open(requests.get(cat_url, stream=True).raw)\n",
    "\n",
    "    except requests.exceptions.RequestException as e:\n",
    "        print(f\"Error fetching cat image: {e}\")\n",
    "        return None\n",
    "   \n",
    "    \n",
    "CatAPIcall(\"beng\")"
   ]
  },
  {
   "cell_type": "code",
   "execution_count": 37,
   "id": "2797fd21-6841-4e45-853a-0f58277978a0",
   "metadata": {},
   "outputs": [
    {
     "name": "stdout",
     "output_type": "stream",
     "text": [
      "{'message': ['https://images.dog.ceo/breeds/shiba/kurosuke01.jpg', 'https://images.dog.ceo/breeds/shiba/mamehiko01.jpg', 'https://images.dog.ceo/breeds/shiba/mamehiko02.jpg', 'https://images.dog.ceo/breeds/shiba/mamehiko03.jpg', 'https://images.dog.ceo/breeds/shiba/shiba-1.jpg', 'https://images.dog.ceo/breeds/shiba/shiba-10.jpg', 'https://images.dog.ceo/breeds/shiba/shiba-11.jpg', 'https://images.dog.ceo/breeds/shiba/shiba-12.jpg', 'https://images.dog.ceo/breeds/shiba/shiba-13.jpg', 'https://images.dog.ceo/breeds/shiba/shiba-14.jpg', 'https://images.dog.ceo/breeds/shiba/shiba-15.jpg', 'https://images.dog.ceo/breeds/shiba/shiba-16.jpg', 'https://images.dog.ceo/breeds/shiba/shiba-17.jpg', 'https://images.dog.ceo/breeds/shiba/shiba-18.jpg', 'https://images.dog.ceo/breeds/shiba/shiba-2.jpg', 'https://images.dog.ceo/breeds/shiba/shiba-3i.jpg', 'https://images.dog.ceo/breeds/shiba/shiba-4.jpg', 'https://images.dog.ceo/breeds/shiba/shiba-5.jpg', 'https://images.dog.ceo/breeds/shiba/shiba-6.jpg', 'https://images.dog.ceo/breeds/shiba/shiba-7.jpg', 'https://images.dog.ceo/breeds/shiba/shiba-8.jpg', 'https://images.dog.ceo/breeds/shiba/shiba-9.jpg', 'https://images.dog.ceo/breeds/shiba/shiba_20.jpg'], 'status': 'success'}\n"
     ]
    }
   ],
   "source": [
    "from PIL import Image\n",
    "import requests\n",
    "import IPython.display as display\n",
    "\n",
    "def DogAPIcall(breed):\n",
    "    url = f\"https://dog.ceo/api/breed/{breed}/images\"\n",
    "    try:\n",
    "        response = requests.get(url)\n",
    "        response.raise_for_status()\n",
    "        data = response.json()\n",
    "        print(data)\n",
    "\n",
    "    except requests.exceptions.RequestException as e:\n",
    "        print(f\"Error fetching dog image: {e}\")\n",
    "        return None\n",
    "   \n",
    "    \n",
    "DogAPIcall(\"shiba\")"
   ]
  },
  {
   "cell_type": "code",
   "execution_count": 57,
   "id": "8192d109-972b-43c4-9c24-6fcaaad5a725",
   "metadata": {},
   "outputs": [
    {
     "name": "stdout",
     "output_type": "stream",
     "text": [
      "0.19042361281430245\n"
     ]
    },
    {
     "data": {
      "text/plain": [
       "{'status': 'success',\n",
       " 'data': {'coin': {'uuid': 'a91GCGd_u96cF',\n",
       "   'symbol': 'DOGE',\n",
       "   'name': 'Dogecoin',\n",
       "   'description': 'Dogecoin is a decentralized, peer-to-peer digital currency created as a joke but now used for charitable causes, founded by Billy Markus, Jackson Palmer, and \"Shibetoshi Nakamoto\".',\n",
       "   'color': '#c2a633',\n",
       "   'iconUrl': 'https://cdn.coinranking.com/y5o-eHss1/74.png',\n",
       "   'websiteUrl': 'http://dogecoin.com/',\n",
       "   'links': [{'name': 'dogecoin.com',\n",
       "     'type': 'website',\n",
       "     'url': 'http://dogecoin.com/'},\n",
       "    {'name': 'bitcointalk.org',\n",
       "     'url': 'https://bitcointalk.org/index.php?topic=361813.0',\n",
       "     'type': 'bitcointalk'},\n",
       "    {'name': 'Facebook',\n",
       "     'url': 'https://www.facebook.com/officialdogecoin/',\n",
       "     'type': 'facebook'},\n",
       "    {'name': 'dogecoin/dogecoin',\n",
       "     'url': 'https://github.com/dogecoin/dogecoin',\n",
       "     'type': 'github'},\n",
       "    {'name': 'r/dogecoin',\n",
       "     'url': 'https://www.reddit.com/r/dogecoin/',\n",
       "     'type': 'reddit'},\n",
       "    {'name': 'dogecoin',\n",
       "     'url': 'https://twitter.com/dogecoin',\n",
       "     'type': 'twitter'}],\n",
       "   'supply': {'confirmed': True,\n",
       "    'supplyAt': 1733961732,\n",
       "    'max': None,\n",
       "    'total': '147162106383.70523',\n",
       "    'circulating': '147162106383.70523'},\n",
       "   'numberOfMarkets': 167,\n",
       "   'numberOfExchanges': 75,\n",
       "   '24hVolume': '834137310',\n",
       "   'marketCap': '28023139967',\n",
       "   'fullyDilutedMarketCap': '28023139967',\n",
       "   'price': '0.19042361281430245',\n",
       "   'btcPrice': '0.000002212999091449',\n",
       "   'priceAt': 1741493820,\n",
       "   'change': '-3.50',\n",
       "   'rank': 9,\n",
       "   'sparkline': ['0.19825330606315866',\n",
       "    '0.19818134312989427',\n",
       "    '0.19788919055160606',\n",
       "    '0.19752160654175888',\n",
       "    '0.19619532299534298',\n",
       "    '0.19613302044883374',\n",
       "    '0.19544543858273716',\n",
       "    '0.19421446899503964',\n",
       "    '0.19489265586175747',\n",
       "    '0.19534932931044896',\n",
       "    '0.1959381902857869',\n",
       "    '0.19518424363038464',\n",
       "    '0.19305353033558717',\n",
       "    '0.192960075659962',\n",
       "    '0.19356367698536045',\n",
       "    '0.19436534544241815',\n",
       "    '0.1945232774282051',\n",
       "    '0.19473028140097498',\n",
       "    '0.19334047871598',\n",
       "    '0.19247604046653824',\n",
       "    '0.19317404593822515',\n",
       "    '0.1932014713642615',\n",
       "    '0.19125072102934582',\n",
       "    '0.1907243680914782'],\n",
       "   'allTimeHigh': {'price': '0.7534321634253793', 'timestamp': 1620432000},\n",
       "   'coinrankingUrl': 'https://coinranking.com/coin/a91GCGd_u96cF+dogecoin-doge',\n",
       "   'tier': 1,\n",
       "   'lowVolume': False,\n",
       "   'listedAt': 1391212800,\n",
       "   'hasContent': True,\n",
       "   'notices': None,\n",
       "   'contractAddresses': [],\n",
       "   'tags': ['meme',\n",
       "    'layer-1',\n",
       "    'proof-of-work',\n",
       "    'altcoin',\n",
       "    'bep-20',\n",
       "    'halal',\n",
       "    'us',\n",
       "    'bsc-meme']}}}"
      ]
     },
     "execution_count": 57,
     "metadata": {},
     "output_type": "execute_result"
    }
   ],
   "source": [
    "\n",
    "import requests\n",
    "\n",
    "def MemeCoin(coinID):\n",
    "    \n",
    "    headers = {\n",
    "  'x-access-token': 'coinranking56f439f4c95e73a90854d583229c2d933817be044a8219d2'\n",
    "    }\n",
    "\n",
    "    response = requests.request(\"GET\", f\"https://api.coinranking.com/v2/coin/{coinID}\", headers=headers)\n",
    "\n",
    "    price = response.json()['data']['coin']['price']\n",
    "\n",
    "    data = response.json()\n",
    "\n",
    "\n",
    "    print(price)\n",
    "    return data\n",
    "MemeCoin('a91GCGd_u96cF')\n"
   ]
  },
  {
   "cell_type": "code",
   "execution_count": null,
   "id": "b8732947-f42c-4d3c-b5b8-23c5259ab0fd",
   "metadata": {},
   "outputs": [],
   "source": []
  }
 ],
 "metadata": {
  "kernelspec": {
   "display_name": "Python [conda env:base] *",
   "language": "python",
   "name": "conda-base-py"
  },
  "language_info": {
   "codemirror_mode": {
    "name": "ipython",
    "version": 3
   },
   "file_extension": ".py",
   "mimetype": "text/x-python",
   "name": "python",
   "nbconvert_exporter": "python",
   "pygments_lexer": "ipython3",
   "version": "3.12.7"
  }
 },
 "nbformat": 4,
 "nbformat_minor": 5
}
